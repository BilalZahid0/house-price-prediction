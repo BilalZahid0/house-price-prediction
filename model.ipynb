{
 "cells": [
  {
   "cell_type": "code",
   "execution_count": 23,
   "metadata": {},
   "outputs": [],
   "source": [
    "import pandas as pd\n",
    "from sklearn.model_selection import train_test_split\n",
    "from sklearn.compose import ColumnTransformer\n",
    "from sklearn.preprocessing import OneHotEncoder\n",
    "from sklearn.neighbors import KNeighborsRegressor\n",
    "import numpy as np"
   ]
  },
  {
   "cell_type": "code",
   "execution_count": 24,
   "metadata": {},
   "outputs": [],
   "source": [
    "df = pd.read_csv('cleaned_data.csv')\n",
    "df.drop(['Unnamed: 0'],axis=1,inplace=True)\n",
    "# Prepare the features and target variable\n",
    "x = df.drop(['price'], axis=1)\n",
    "y = df['price']"
   ]
  },
  {
   "cell_type": "code",
   "execution_count": null,
   "metadata": {},
   "outputs": [],
   "source": []
  },
  {
   "cell_type": "code",
   "execution_count": null,
   "metadata": {},
   "outputs": [],
   "source": []
  },
  {
   "cell_type": "code",
   "execution_count": 25,
   "metadata": {},
   "outputs": [],
   "source": [
    "ct=ColumnTransformer(transformers=[('encoder',OneHotEncoder(),[0,1,2,4])],remainder='passthrough')\n",
    "x=ct.fit_transform(x)"
   ]
  },
  {
   "cell_type": "code",
   "execution_count": 26,
   "metadata": {},
   "outputs": [],
   "source": [
    "# Splitting the data into train and test\n",
    "x_train, x_test, y_train, y_test = train_test_split(x, y, test_size=0.2, random_state=42)"
   ]
  },
  {
   "cell_type": "code",
   "execution_count": 27,
   "metadata": {},
   "outputs": [
    {
     "name": "stdout",
     "output_type": "stream",
     "text": [
      "0.6957780430372906\n"
     ]
    }
   ],
   "source": [
    "#apply linear regression\n",
    "from sklearn.linear_model import LinearRegression\n",
    "regressor=LinearRegression()\n",
    "regressor.fit(x_train,y_train)\n",
    "\n",
    "#predicting the test set results\n",
    "y_pred=regressor.predict(x_test)\n",
    "#calculating the r squared value\n",
    "from sklearn.metrics import r2_score\n",
    "score=r2_score(y_test,y_pred)\n",
    "print(score)\n"
   ]
  },
  {
   "cell_type": "code",
   "execution_count": 28,
   "metadata": {},
   "outputs": [
    {
     "name": "stdout",
     "output_type": "stream",
     "text": [
      "0.8169363082037588\n"
     ]
    }
   ],
   "source": [
    "\n",
    "#apply random forest regression\n",
    "from sklearn.ensemble import RandomForestRegressor\n",
    "regressor = random_forest_model=RandomForestRegressor(n_estimators=10,\n",
    "                                          criterion='squared_error',\n",
    "                                          max_depth=5,\n",
    "                                          min_samples_leaf=5,)\n",
    "regressor.fit(x_train,y_train)\n",
    "#predicting the test set results\n",
    "y_pred=regressor.predict(x_test)\n",
    "\n",
    "#calculating the r squared value\n",
    "from sklearn.metrics import r2_score\n",
    "score=r2_score(y_test,y_pred)\n",
    "print(score)\n"
   ]
  },
  {
   "cell_type": "code",
   "execution_count": 29,
   "metadata": {},
   "outputs": [
    {
     "name": "stdout",
     "output_type": "stream",
     "text": [
      "0.9058640324397783\n"
     ]
    }
   ],
   "source": [
    "#apply xgb regression\n",
    "from xgboost import XGBRegressor\n",
    "regressor = XGBRegressor()\n",
    "regressor.fit(x_train,y_train)\n",
    "#predicting the test set results\n",
    "y_pred=regressor.predict(x_test)\n",
    "\n",
    "#calculating the r squared value\n",
    "from sklearn.metrics import r2_score\n",
    "score=r2_score(y_test,y_pred)\n",
    "print(score)\n"
   ]
  },
  {
   "cell_type": "code",
   "execution_count": 30,
   "metadata": {},
   "outputs": [
    {
     "name": "stdout",
     "output_type": "stream",
     "text": [
      "KNN score: 0.9002137455759109\n"
     ]
    }
   ],
   "source": [
    "\n",
    "from sklearn.neighbors import KNeighborsRegressor\n",
    "knn_model=KNeighborsRegressor(n_neighbors=6)\n",
    "knn_model.fit(x_train,y_train)\n",
    "knn_score=knn_model.score(x_test,y_test)\n",
    "print(\"KNN score:\",knn_score)"
   ]
  },
  {
   "cell_type": "code",
   "execution_count": 31,
   "metadata": {},
   "outputs": [],
   "source": [
    "#SAVE THE MODEL\n",
    "import pickle\n",
    "pickle.dump(xgb_model,open('model.pkl','wb'))\n"
   ]
  },
  {
   "cell_type": "code",
   "execution_count": 32,
   "metadata": {},
   "outputs": [
    {
     "name": "stdout",
     "output_type": "stream",
     "text": [
      "1927428.7128823225\n"
     ]
    }
   ],
   "source": [
    "#check for abosulte error\n",
    "from sklearn.metrics import mean_absolute_error\n",
    "mae=mean_absolute_error(y_test,y_pred)\n",
    "print(mae)\n"
   ]
  },
  {
   "cell_type": "code",
   "execution_count": 34,
   "metadata": {},
   "outputs": [],
   "source": [
    "model_loaded = pickle.load(open('model.pkl','rb'))\n"
   ]
  },
  {
   "cell_type": "code",
   "execution_count": 72,
   "metadata": {},
   "outputs": [],
   "source": [
    "user_input = np.array(\n",
    "    [['House', 'Scheme 33', 'Karachi', 2, 'For Rent', 2, 8]])\n",
    "\n",
    "# Creating a DataFrame from the user input\n",
    "user_input_df = pd.DataFrame(\n",
    "    user_input, columns=['property_type', 'location', 'city', 'baths', 'purpose', 'bedrooms', 'Area_in_Marla'])"
   ]
  },
  {
   "cell_type": "code",
   "execution_count": 73,
   "metadata": {},
   "outputs": [],
   "source": [
    "user_input_df.to_csv('user_input.csv', index=False)"
   ]
  },
  {
   "cell_type": "code",
   "execution_count": 74,
   "metadata": {},
   "outputs": [
    {
     "name": "stdout",
     "output_type": "stream",
     "text": [
      "KNN_model loaded successfully.\n",
      "Predicted Price: 18811.88\n"
     ]
    }
   ],
   "source": [
    "# Load the KNN_model\n",
    "with open('model.pkl', 'rb') as model_file:\n",
    "    loaded_knn_model = pickle.load(model_file)\n",
    "\n",
    "print('KNN_model loaded successfully.')\n",
    "# Use the loaded model to make predictions\n",
    "user_input = pd.read_csv('user_input.csv')\n",
    "# Transforming the user input DataFrame with the loaded ColumnTransformer\n",
    "user_input_transformed = ct.transform(user_input_df)\n",
    "\n",
    "# Predicting the price with the loaded model\n",
    "predicted_price = loaded_knn_model.predict(user_input_transformed)\n",
    "\n",
    "# Output the predicted price\n",
    "print('Predicted Price:', predicted_price[0])"
   ]
  },
  {
   "cell_type": "code",
   "execution_count": null,
   "metadata": {},
   "outputs": [],
   "source": []
  }
 ],
 "metadata": {
  "kernelspec": {
   "display_name": "Python 3",
   "language": "python",
   "name": "python3"
  },
  "language_info": {
   "codemirror_mode": {
    "name": "ipython",
    "version": 3
   },
   "file_extension": ".py",
   "mimetype": "text/x-python",
   "name": "python",
   "nbconvert_exporter": "python",
   "pygments_lexer": "ipython3",
   "version": "3.10.11"
  }
 },
 "nbformat": 4,
 "nbformat_minor": 2
}
